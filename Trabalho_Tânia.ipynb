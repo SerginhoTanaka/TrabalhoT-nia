{
  "nbformat": 4,
  "nbformat_minor": 0,
  "metadata": {
    "colab": {
      "provenance": [],
      "authorship_tag": "ABX9TyNXF8DbL7GvIZeEyvBVkY87",
      "include_colab_link": true
    },
    "kernelspec": {
      "name": "python3",
      "display_name": "Python 3"
    },
    "language_info": {
      "name": "python"
    }
  },
  "cells": [
    {
      "cell_type": "markdown",
      "metadata": {
        "id": "view-in-github",
        "colab_type": "text"
      },
      "source": [
        "<a href=\"https://colab.research.google.com/github/SerginhoTanaka/TrabalhoTania/blob/main/Trabalho_T%C3%A2nia.ipynb\" target=\"_parent\"><img src=\"https://colab.research.google.com/assets/colab-badge.svg\" alt=\"Open In Colab\"/></a>"
      ]
    },
    {
      "cell_type": "code",
      "execution_count": 11,
      "metadata": {
        "colab": {
          "base_uri": "https://localhost:8080/",
          "height": 351
        },
        "id": "NyUz_T6vmWAV",
        "outputId": "f8284eb0-2d1f-4c0a-e718-b239434a0140"
      },
      "outputs": [
        {
          "output_type": "stream",
          "name": "stdout",
          "text": [
            "Quantas casas: 40\n",
            "[1, 1, 2, 3, 5, 8, 13, 21, 34, 55, 89, 144, 233, 377, 610, 987, 1597, 2584, 4181, 6765, 10946, 17711, 28657, 46368, 75025, 121393, 196418, 317811, 514229, 832040, 1346269, 2178309, 3524578, 5702887, 9227465, 14930352, 24157817, 39088169, 63245986, 102334155]\n",
            "TEMPO: 1.9550323486328125e-05\n"
          ]
        },
        {
          "output_type": "display_data",
          "data": {
            "text/plain": [
              "<Figure size 432x288 with 1 Axes>"
            ],
            "image/png": "[encoded data removed]"
          },
          "metadata": {
            "needs_background": "light"
          }
        }
      ],
      "source": [
        "import numpy as np\n",
        "import matplotlib.pyplot as plt\n",
        "import time\n",
        "\n",
        "def fibonacci():\n",
        "    a, b = 0, 1\n",
        "    x = int(input('Quantas casas: '))\n",
        "    lista = []\n",
        "    tempo = []\n",
        "    for i in range(1, x+1):\n",
        "        tempo_inicial = time.time()\n",
        "        a, b = b, a+b\n",
        "        lista.append(a)\n",
        "        tempo_final = time.time() - tempo_inicial\n",
        "        tempo.append(tempo_final)\n",
        "    print(lista)\n",
        "    print(\"TEMPO:\",sum(tempo))\n",
        "    plt.plot(tempo)\n",
        "    plt.show\n",
        "\n",
        "fibonacci()"
      ]
    },
    {
      "cell_type": "code",
      "source": [
        "import numpy as np\n",
        "import matplotlib.pyplot as plt\n",
        "import time\n",
        "c = int(input('Quantas casas: '))\n",
        "graf = []\n",
        "tempo2 =[]\n",
        "def rec_fib(c):\n",
        "    if c == 0 or c == 1:\n",
        "        return 1\n",
        "    else:\n",
        "        return rec_fib(c-1) + rec_fib(c-2)\n",
        "\n",
        "\n",
        "for i in range(c):\n",
        "    inicio = time.time()\n",
        "    print(rec_fib(i))\n",
        "    graf.append(rec_fib(i))\n",
        "    fim = time.time() - inicio\n",
        "    tempo2.append(fim)\n",
        "print(\"TEMPO:\",sum(tempo2))\n",
        "plt.plot(tempo2)\n",
        "plt.show\n"
      ],
      "metadata": {
        "colab": {
          "base_uri": "https://localhost:8080/",
          "height": 1000
        },
        "id": "X3h02f0BnGZn",
        "outputId": "bdcb9233-84d9-4e13-d918-4eb13a63e617"
      },
      "execution_count": 12,
      "outputs": [
        {
          "output_type": "stream",
          "name": "stdout",
          "text": [
            "Quantas casas: 40\n",
            "1\n",
            "1\n",
            "2\n",
            "3\n",
            "5\n",
            "8\n",
            "13\n",
            "21\n",
            "34\n",
            "55\n",
            "89\n",
            "144\n",
            "233\n",
            "377\n",
            "610\n",
            "987\n",
            "1597\n",
            "2584\n",
            "4181\n",
            "6765\n",
            "10946\n",
            "17711\n",
            "28657\n",
            "46368\n",
            "75025\n",
            "121393\n",
            "196418\n",
            "317811\n",
            "514229\n",
            "832040\n",
            "1346269\n",
            "2178309\n",
            "3524578\n",
            "5702887\n",
            "9227465\n",
            "14930352\n",
            "24157817\n",
            "39088169\n",
            "63245986\n",
            "102334155\n",
            "TEMPO: 160.0603415966034\n"
          ]
        },
        {
          "output_type": "execute_result",
          "data": {
            "text/plain": [
              "<function matplotlib.pyplot.show(*args, **kw)>"
            ]
          },
          "metadata": {},
          "execution_count": 12
        },
        {
          "output_type": "display_data",
          "data": {
            "text/plain": [
              "<Figure size 432x288 with 1 Axes>"
            ],
            "image/png": "[encoded data removed]"
          },
          "metadata": {
            "needs_background": "light"
          }
        }
      ]
    }
  ]
}