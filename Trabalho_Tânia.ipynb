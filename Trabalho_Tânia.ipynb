{
  "nbformat": 4,
  "nbformat_minor": 0,
  "metadata": {
    "colab": {
      "provenance": [],
      "authorship_tag": "ABX9TyPtaB3VybcgqZz3dPsg7AnQ",
      "include_colab_link": true
    },
    "kernelspec": {
      "name": "python3",
      "display_name": "Python 3"
    },
    "language_info": {
      "name": "python"
    }
  },
  "cells": [
    {
      "cell_type": "markdown",
      "metadata": {
        "id": "view-in-github",
        "colab_type": "text"
      },
      "source": [
        "<a href=\"https://colab.research.google.com/github/SerginhoTanaka/TrabalhoTania/blob/main/Trabalho_T%C3%A2nia.ipynb\" target=\"_parent\"><img src=\"https://colab.research.google.com/assets/colab-badge.svg\" alt=\"Open In Colab\"/></a>"
      ]
    },
    {
      "cell_type": "code",
      "execution_count": 10,
      "metadata": {
        "colab": {
          "base_uri": "https://localhost:8080/",
          "height": 320
        },
        "id": "NyUz_T6vmWAV",
        "outputId": "9d432dce-ffd1-4bbe-ea46-b0348b1d86c8"
      },
      "outputs": [
        {
          "output_type": "stream",
          "name": "stdout",
          "text": [
            "Quantas casas: 10\n",
            "[1, 1, 2, 3, 5, 8, 13, 21, 34, 55]\n",
            "5.7220458984375e-06\n"
          ]
        },
        {
          "output_type": "display_data",
          "data": {
            "text/plain": [
              "<Figure size 432x288 with 1 Axes>"
            ],
            "image/png": "[encoded data removed]"
          },
          "metadata": {
            "needs_background": "light"
          }
        }
      ],
      "source": [
        "import numpy as np\n",
        "import matplotlib.pyplot as plt\n",
        "import time\n",
        "\n",
        "def fibonacci():\n",
        "    a, b = 0, 1\n",
        "    x = int(input('Quantas casas: '))\n",
        "    lista = []\n",
        "    tempo = []\n",
        "    for i in range(1, x+1):\n",
        "        tempo_inicial = time.time()\n",
        "        a, b = b, a+b\n",
        "        lista.append(a)\n",
        "        tempo_final = time.time() - tempo_inicial\n",
        "        tempo.append(tempo_final)\n",
        "    print(lista)\n",
        "    print(sum(tempo))\n",
        "    plt.plot(tempo)\n",
        "    plt.plot(lista)\n",
        "    plt.show\n",
        "\n",
        "fibonacci()"
      ]
    },
    {
      "cell_type": "code",
      "source": [
        "import numpy as np\n",
        "import matplotlib.pyplot as plt\n",
        "import time\n",
        "c = int(input('Quantas casas: '))\n",
        "graf = []\n",
        "tempo2 =[]\n",
        "def rec_fib(c):\n",
        "    if c == 0 or c == 1:\n",
        "        return 1\n",
        "    else:\n",
        "        return rec_fib(c-1) + rec_fib(c-2)\n",
        "\n",
        "\n",
        "for i in range(c):\n",
        "    inicio = time.time()\n",
        "    print(rec_fib(i))\n",
        "    graf.append(rec_fib(i))\n",
        "    fim = time.time() - inicio\n",
        "    tempo2.append(fim)\n",
        "print(sum(tempo2))\n",
        "plt.plot(tempo2)\n",
        "plt.plot(graf)\n",
        "plt.show\n"
      ],
      "metadata": {
        "colab": {
          "base_uri": "https://localhost:8080/",
          "height": 502
        },
        "id": "X3h02f0BnGZn",
        "outputId": "222019fe-e231-4db8-99ee-551bc0553313"
      },
      "execution_count": 17,
      "outputs": [
        {
          "output_type": "stream",
          "name": "stdout",
          "text": [
            "Quantas casas: 10\n",
            "1\n",
            "1\n",
            "2\n",
            "3\n",
            "5\n",
            "8\n",
            "13\n",
            "21\n",
            "34\n",
            "55\n",
            "0.0005311965942382812\n"
          ]
        },
        {
          "output_type": "execute_result",
          "data": {
            "text/plain": [
              "[<matplotlib.lines.Line2D at 0x7f98e767d310>]"
            ]
          },
          "metadata": {},
          "execution_count": 17
        },
        {
          "output_type": "display_data",
          "data": {
            "text/plain": [
              "<Figure size 432x288 with 1 Axes>"
            ],
            "image/png": "[encoded data removed]"
          },
          "metadata": {
            "needs_background": "light"
          }
        }
      ]
    },
    {
      "cell_type": "code",
      "source": [],
      "metadata": {
        "id": "S1bMn8OFGm4d"
      },
      "execution_count": null,
      "outputs": []
    }
  ]
}