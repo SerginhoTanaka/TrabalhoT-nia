{
  "nbformat": 4,
  "nbformat_minor": 0,
  "metadata": {
    "colab": {
      "provenance": [],
      "authorship_tag": "ABX9TyNQX5vJsW3SGzBOrWH55h9e",
      "include_colab_link": true
    },
    "kernelspec": {
      "name": "python3",
      "display_name": "Python 3"
    },
    "language_info": {
      "name": "python"
    }
  },
  "cells": [
    {
      "cell_type": "markdown",
      "metadata": {
        "id": "view-in-github",
        "colab_type": "text"
      },
      "source": [
        "<a href=\"https://colab.research.google.com/github/SerginhoTanaka/TrabalhoTania/blob/main/Multiplica%C3%A7%C3%A3o_de_Matrizes_T%C3%A2nia.ipynb\" target=\"_parent\"><img src=\"https://colab.research.google.com/assets/colab-badge.svg\" alt=\"Open In Colab\"/></a>"
      ]
    },
    {
      "cell_type": "code",
      "execution_count": 30,
      "metadata": {
        "colab": {
          "base_uri": "https://localhost:8080/"
        },
        "id": "Zz-KIArNY9pg",
        "outputId": "44b18515-755f-4fd0-83df-dc49362b4d58"
      },
      "outputs": [
        {
          "output_type": "stream",
          "name": "stdout",
          "text": [
            "Matriz de botões por camisa:\n",
            "[[100  50]\n",
            " [ 50 100]\n",
            " [ 50  50]]\n",
            "Matriz de camisa por mês:\n",
            "[[3 1 3]\n",
            " [6 5 5]]\n",
            "Total de botões pelos meses:\n",
            "[[ 500  400]\n",
            " [1100 1050]]\n",
            "3050\n"
          ]
        }
      ],
      "source": [
        "import numpy as np\n",
        "a = np.array([[3,1, 3], [6, 5, 5]], np.int32)\n",
        "b = np.array([[100,50],[50,100],[50,50]],np.int32) \n",
        "print(\"Matriz de botões por camisa:\")\n",
        "print(b)\n",
        "print(\"Matriz de camisa por mês:\")\n",
        "print(a)\n",
        "print(\"Total de botões pelos meses:\")\n",
        "c = a.dot(b)\n",
        "print(c)\n",
        "soma = 0\n",
        "for i in range(2):\n",
        "  for j in range(2):\n",
        "    soma = soma + c[i][j]\n",
        "\n",
        "print(\"Total de botões\", soma)\n",
        "\n",
        "\n",
        "\n"
      ]
    },
    {
      "cell_type": "code",
      "source": [],
      "metadata": {
        "id": "lI-i1Exw4Z0l"
      },
      "execution_count": null,
      "outputs": []
    }
  ]
}